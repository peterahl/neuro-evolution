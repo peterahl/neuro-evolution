{
 "cells": [
  {
   "cell_type": "code",
   "execution_count": null,
   "metadata": {
    "autoscroll": "json-false",
    "collapsed": false,
    "ein.tags": [
     "worksheet-0"
    ]
   },
   "outputs": [],
   "source": [
    "from random import choice\n",
    "from itertools import chain\n",
    "import matplotlib.pyplot as plt\n",
    "import numpy as np\n",
    "\n",
    "%matplotlib inline"
   ]
  },
  {
   "cell_type": "code",
   "execution_count": null,
   "metadata": {
    "autoscroll": "json-false",
    "collapsed": false,
    "ein.tags": [
     "worksheet-0"
    ]
   },
   "outputs": [],
   "source": [
    "def number(s, dialect=(\"AB\", \"CD\"), delta=1):\n",
    "    l = dialect[0]\n",
    "    plus = set(l[:len(l) // 2])\n",
    "    n = 0\n",
    "    for l, _ in s:\n",
    "        delta /= 2\n",
    "        n = n + (delta if l in plus else -delta)\n",
    "    return n"
   ]
  },
  {
   "cell_type": "code",
   "execution_count": null,
   "metadata": {
    "autoscroll": "json-false",
    "collapsed": false,
    "ein.tags": [
     "worksheet-0"
    ]
   },
   "outputs": [],
   "source": [
    "N_LEN = 2 ** 3  # how long is a number?\n",
    "DIALECT = (\"AB\", \"CD\")\n",
    "DELTA = 1"
   ]
  },
  {
   "cell_type": "code",
   "execution_count": null,
   "metadata": {
    "autoscroll": "json-false",
    "collapsed": false,
    "ein.tags": [
     "worksheet-0"
    ]
   },
   "outputs": [],
   "source": [
    "blocks = list(chain.from_iterable([[l + r for r in DIALECT[1]] for l in DIALECT[0]]))\n",
    "numbers = [[choice(blocks) for _ in range(N_LEN)] for _ in range(5000)]\n",
    "numbers = [(n, number(n, dialect=DIALECT, delta=DELTA)) for n in numbers ]\n",
    "for n_str, n_float in numbers[:10]:\n",
    "    print(\"\".join(n_str), n_float, sep=\": \")\n",
    "numbers = list(zip(*numbers))[1]  # keep only floats"
   ]
  },
  {
   "cell_type": "code",
   "execution_count": null,
   "metadata": {
    "autoscroll": "json-false",
    "collapsed": false,
    "ein.tags": [
     "worksheet-0"
    ]
   },
   "outputs": [],
   "source": [
    "hist, bins = np.histogram(numbers, bins=N_LEN ** 2, range=(-DELTA, DELTA))\n",
    "center_bins = (bins[:-1] + bins[1:]) / 2  # center of each bin\n",
    "fig = plt.figure(figsize=(16, 9))\n",
    "temp = plt.bar(center_bins, hist, align='center', width=0.7 * (bins[1] - bins[0]))"
   ]
  }
 ],
 "metadata": {
  "kernelspec": {
   "display_name": "Python 3",
   "language": "python",
   "name": "python3"
  },
  "language_info": {
   "codemirror_mode": {
    "name": "ipython",
    "version": 3
   },
   "file_extension": ".py",
   "mimetype": "text/x-python",
   "name": "python",
   "nbconvert_exporter": "python",
   "pygments_lexer": "ipython3",
   "version": "3.4.3+"
  },
  "name": "sequence_number.ipynb"
 },
 "nbformat": 4,
 "nbformat_minor": 0
}
