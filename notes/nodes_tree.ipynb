{
 "cells": [
  {
   "cell_type": "code",
   "execution_count": null,
   "metadata": {
    "autoscroll": "json-false",
    "collapsed": false,
    "ein.tags": [
     "worksheet-0"
    ]
   },
   "outputs": [],
   "source": [
    "from graphviz import Digraph\n",
    "\n",
    "dot = Digraph(comment='The Round Table')\n",
    "\n",
    "dot.node('A', 'King Arthur')\n",
    "dot.node('B', 'Sir Bedevere the Wise')\n",
    "dot.node('L', 'Sir Lancelot the Brave')\n",
    "\n",
    "dot.edges(['AB', 'AL'])\n",
    "dot.edge('B', 'L', constraint='false')\n",
    "\n",
    "dot\n",
    "\n"
   ]
  },
  {
   "cell_type": "code",
   "execution_count": null,
   "metadata": {
    "autoscroll": "json-false",
    "collapsed": false,
    "ein.tags": [
     "worksheet-0"
    ]
   },
   "outputs": [],
   "source": [
    "from random import random\n",
    "\n",
    "def randomize_propability(p, delta):\n",
    "    p += random() * 2* delta - delta\n",
    "    if p < 0:\n",
    "        p = 0\n",
    "    if p > 1:\n",
    "        p = 1\n",
    "    return p"
   ]
  },
  {
   "cell_type": "code",
   "execution_count": null,
   "metadata": {
    "autoscroll": "json-false",
    "collapsed": false,
    "ein.tags": [
     "worksheet-0"
    ]
   },
   "outputs": [],
   "source": [
    "from collections import namedtuple\n",
    "from random import random\n",
    "from uuid import uuid4\n",
    "\n",
    "\n",
    "_P_CLONE_DELTA = 0.1\n",
    "\n",
    "_P_CONNECTIONS_DELTA = 0.1\n",
    "\n",
    "_P_CONNECTIONS_CHANGE_LEVEL = 0.3\n",
    "\n",
    "Node = namedtuple(\"Node\", (\"id\", \"p_clone\", \"p_connections\", \"connections\"))\n",
    "\n",
    "def build_connections(connections, p_connections, connected):\n",
    "    new_connections = []\n",
    "    if p_connections:\n",
    "        p = p_connections[0]\n",
    "        p_connections = p_connections[1:]\n",
    "        for node in connections:\n",
    "            if node.id not in connected and random() < p:\n",
    "                new_connections.append(node)\n",
    "                connected.add(node.id)\n",
    "                new_connections.extend(build_connections(node.connections, p_connections, connected))\n",
    "    return new_connections\n",
    "    \n",
    "\n",
    "def evolve(nodes):\n",
    "    new_nodes = []\n",
    "    for node in nodes:\n",
    "        if random() < node.p_clone:\n",
    "            p_connections = list(node.p_connections)\n",
    "            if random() < _P_CONNECTIONS_CHANGE_LEVEL:\n",
    "                len_change = 1 if random() > 0.5 else -1\n",
    "                if len_change == -1 and len(p_connections) > 1:\n",
    "                    p_connections = p_connections[:-1]\n",
    "                elif len_change == 1:\n",
    "                    p_connections = p_connections + [p_connections[-1]]\n",
    "            p_connections = [randomize_propability(p, _P_CONNECTIONS_DELTA) for p in p_connections]\n",
    "            connected = set()\n",
    "            connections = build_connections([node], p_connections, connected)\n",
    "            new_nodes.append(\n",
    "                Node(uuid4(), randomize_propability(node.p_clone, _P_CLONE_DELTA), p_connections, connections))\n",
    "    return new_nodes\n"
   ]
  },
  {
   "cell_type": "code",
   "execution_count": null,
   "metadata": {
    "autoscroll": "json-false",
    "collapsed": false,
    "ein.tags": [
     "worksheet-0"
    ]
   },
   "outputs": [],
   "source": [
    "nodes = [Node(uuid4(), 0.5, [0.5], [])]"
   ]
  },
  {
   "cell_type": "code",
   "execution_count": null,
   "metadata": {
    "autoscroll": "json-false",
    "collapsed": false,
    "ein.tags": [
     "worksheet-0"
    ]
   },
   "outputs": [],
   "source": [
    "nodes.extend(evolve(nodes))\n",
    "nodes"
   ]
  },
  {
   "cell_type": "code",
   "execution_count": null,
   "metadata": {
    "autoscroll": "json-false",
    "collapsed": false,
    "ein.tags": [
     "worksheet-0"
    ]
   },
   "outputs": [],
   "source": [
    "from graphviz import Digraph\n",
    "from itertools import chain\n",
    "\n",
    "def find_edges(node, visited_nodes):\n",
    "    edges = []\n",
    "    for c in node.connections:\n",
    "        edges.append((node.id, c.id))\n",
    "        if c.id not in visited_nodes:\n",
    "            visited_nodes.append(c.id)\n",
    "            edges.extend(find_edges(c, nodes))\n",
    "    return edges\n",
    "\n",
    "visited_nodes = set((n.id for n in nodes))\n",
    "edges = chain.from_iterable([find_edges(n, visited_nodes) for n in nodes])\n",
    "\n",
    "dot = Digraph()\n",
    "for a, b in edges:\n",
    "    dot.edge(str(a)[:5], str(b)[:5])\n",
    "dot"
   ]
  },
  {
   "cell_type": "code",
   "execution_count": null,
   "metadata": {
    "autoscroll": "json-false",
    "collapsed": false,
    "ein.tags": [
     "worksheet-0"
    ]
   },
   "outputs": [],
   "source": [
    "from collections import namedtuple\n",
    "from random import random\n",
    "from uuid import uuid4\n",
    "\n",
    "\n",
    "_P_CLONE_DELTA = 0.1\n",
    "\n",
    "_P_CONNECTIONS_DELTA = 0.1\n",
    "\n",
    "_P_CONNECTIONS_CHANGE_LEVEL = 0.3\n",
    "\n",
    "Node = namedtuple(\"Node\", (\"id\", \"p_clone\", \"p_connections\", \"connections\"))\n",
    "\n",
    "def build_connections(connections, p_connections, connected):\n",
    "    new_connections = []\n",
    "    if p_connections:\n",
    "        p = p_connections[0]\n",
    "        p_connections = p_connections[1:]\n",
    "        for node in connections:\n",
    "            if node.id not in connected and random() < p:\n",
    "                new_connections.append(node)\n",
    "                connected.add(node.id)\n",
    "                new_connections.extend(build_connections(node.connections, p_connections, connected))\n",
    "    return new_connections\n",
    "    \n",
    "\n",
    "def evolve(nodes):\n",
    "    new_nodes = []\n",
    "    for node in nodes:\n",
    "        if random() < node.p_clone:\n",
    "            p_connections = list(node.p_connections)\n",
    "            if random() < _P_CONNECTIONS_CHANGE_LEVEL:\n",
    "                len_change = 1 if random() > 0.5 else -1\n",
    "                if len_change == -1 and len(p_connections) > 1:\n",
    "                    p_connections = p_connections[:-1]\n",
    "                elif len_change == 1:\n",
    "                    p_connections = p_connections + [p_connections[-1]]\n",
    "            p_connections = [randomize_propability(p, _P_CONNECTIONS_DELTA) for p in p_connections]\n",
    "            connected = set()\n",
    "            connections = build_connections([node], p_connections, connected)\n",
    "            new_nodes.append(\n",
    "                Node(uuid4(), randomize_propability(node.p_clone, _P_CLONE_DELTA), p_connections, connections))\n",
    "    return new_nodes\n"
   ]
  },
  {
   "cell_type": "code",
   "execution_count": null,
   "metadata": {
    "autoscroll": "json-false",
    "collapsed": false,
    "ein.tags": [
     "worksheet-0"
    ]
   },
   "outputs": [],
   "source": [
    "from collections import namedtuple\n",
    "from random import random, choice, randint\n",
    "from math import ceil\n",
    "from uuid import uuid4\n",
    "\n",
    "\n",
    "_P_CLONE_DELTA = 0.1\n",
    "\n",
    "_P_CONNECTIONS_DELTA = 0.1\n",
    "\n",
    "_P_CONNECTIONS_CHANGE_LEVEL = 0.3\n",
    "\n",
    "Node = namedtuple(\"Node\", (\"id\", \"connections\"))\n",
    "\n",
    "def reduce_nodes(nodes, target_count):\n",
    "    if target_count > 0:\n",
    "        nodes_to_remove = [nodes.pop(randint(0, len(nodes)-1)).id for _ in range(len(nodes) - target_count)]\n",
    "        for n in nodes:\n",
    "            for r in nodes_to_remove:\n",
    "                try:\n",
    "                    n.connections.remove(r)\n",
    "                except ValueError:\n",
    "                    pass\n",
    "    return nodes\n",
    "\n",
    "def count_conntections(nodes):\n",
    "    return sum(map(lambda n:len(n.connections), nodes))\n",
    "\n",
    "def reduce_connections(nodes, target_count):\n",
    "    n_connctions = count_conntections(nodes)\n",
    "    if target_count > len(nodes):\n",
    "        connections_to_remove = n_connctions - target_count\n",
    "        while connections_to_remove > 0:\n",
    "            node = choice(nodes)\n",
    "            n_conn = len(node.connections)\n",
    "            if n_conn > 1:\n",
    "                del node.connections[randint(0, n_conn-1)]\n",
    "                connections_to_remove -= 1\n",
    "    return nodes\n",
    "\n",
    "def clone(nodes):\n",
    "    new_ids = {n.id: uuid4() for n in nodes}\n",
    "    return [Node(new_ids[n.id], [new_ids[c] for c in n.connections]) for n in nodes]\n",
    "\n",
    "def combine(nodes_a, nodes_b):\n",
    "    nodes_b = clone(nodes_b)\n",
    "    nodes_a = clone(nodes_a)\n",
    "\n",
    "    for node_a in nodes_a:\n",
    "        for node_b in nodes_b:\n",
    "            node_a.connections.append(node_b.id)\n",
    "            node_b.connections.append(node_a.id)\n",
    "\n",
    "    nodes = clone(nodes_a + nodes_b)\n",
    "    target_count = ceil(len(nodes_a) + len(nodes_b) / 2) + randint(-1, 1) \n",
    "    reduced_nodes = reduce_nodes(nodes, target_count) \n",
    "    n_connctions = count_conntections(reduced_nodes)\n",
    "    target_count = randint(n_connctions//3, (2*n_connctions)//3)\n",
    "\n",
    "    return reduce_connections(reduced_nodes, target_count)\n",
    "\n",
    "def evolve(generation):\n",
    "    copy_generation = list(generation)\n",
    "    new_generation = []\n",
    "    for index, nodes in enumerate(generation):\n",
    "        copy_generation.remove(nodes)\n",
    "        to_nodes = choice(copy_generation)\n",
    "        new_generation.append(combine(nodes, to_nodes))\n",
    "        copy_generation.append(nodes)\n",
    "\n",
    "    return new_generation\n"
   ]
  },
  {
   "cell_type": "code",
   "execution_count": null,
   "metadata": {
    "autoscroll": "json-false",
    "collapsed": false,
    "ein.tags": [
     "worksheet-0"
    ]
   },
   "outputs": [],
   "source": [
    "generation = [[Node(uuid4(), [])],[Node(uuid4(), [])],[Node(uuid4(), [])],[Node(uuid4(), [])],[Node(uuid4(), [])]]\n",
    "generation_count = 0\n"
   ]
  },
  {
   "cell_type": "code",
   "execution_count": null,
   "metadata": {
    "autoscroll": "json-false",
    "collapsed": false,
    "ein.tags": [
     "worksheet-0"
    ],
    "scrolled": false
   },
   "outputs": [],
   "source": [
    "generation = evolve(generation)\n",
    "generation_count += 1\n",
    "\n",
    "from graphviz import Digraph\n",
    "\n",
    "dot = Digraph()\n",
    "dot.format = 'png'\n",
    "\n",
    "for nodes in generation:\n",
    "    for node in nodes:\n",
    "        dot.node(str(node.id)[:6])\n",
    "        for c in node.connections:\n",
    "            dot.edge(str(node.id)[:6], str(c)[:6])\n",
    "\n",
    "dot.render('test' + str(generation_count))\n",
    "dot\n",
    "\n"
   ]
  }
 ],
 "metadata": {
  "kernelspec": {
   "display_name": "Python 3",
   "language": "python",
   "name": "python3"
  },
  "language_info": {
   "codemirror_mode": {
    "name": "ipython",
    "version": 3
   },
   "file_extension": ".py",
   "mimetype": "text/x-python",
   "name": "python",
   "nbconvert_exporter": "python",
   "pygments_lexer": "ipython3",
   "version": "3.4.3"
  },
  "name": "nodes_tree.ipynb"
 },
 "nbformat": 4,
 "nbformat_minor": 0
}
