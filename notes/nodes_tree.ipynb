{
 "cells": [
  {
   "cell_type": "code",
   "execution_count": null,
   "metadata": {
    "collapsed": false
   },
   "outputs": [],
   "source": [
    "from graphviz import Digraph\n",
    "\n",
    "dot = Digraph(comment='The Round Table')\n",
    "\n",
    "dot.node('A', 'King Arthur')\n",
    "dot.node('B', 'Sir Bedevere the Wise')\n",
    "dot.node('L', 'Sir Lancelot the Brave')\n",
    "\n",
    "dot.edges(['AB', 'AL'])\n",
    "dot.edge('B', 'L', constraint='false')\n",
    "\n",
    "dot\n",
    "\n"
   ]
  },
  {
   "cell_type": "code",
   "execution_count": null,
   "metadata": {
    "collapsed": true
   },
   "outputs": [],
   "source": [
    "from random import random\n",
    "\n",
    "def randomize_propability(p, delta):\n",
    "    p += random() * 2* delta - delta\n",
    "    if p < 0:\n",
    "        p = 0\n",
    "    if p > 1:\n",
    "        p = 1\n",
    "    return p"
   ]
  },
  {
   "cell_type": "code",
   "execution_count": null,
   "metadata": {
    "collapsed": true
   },
   "outputs": [],
   "source": [
    "from collections import namedtuple\n",
    "from random import random\n",
    "from uuid import uuid4\n",
    "\n",
    "\n",
    "_P_CLONE_DELTA = 0.1\n",
    "\n",
    "_P_CONNECTIONS_DELTA = 0.1\n",
    "\n",
    "_P_CONNECTIONS_CHANGE_LEVEL = 0.3\n",
    "\n",
    "Node = namedtuple(\"Node\", (\"id\", \"p_clone\", \"p_connections\", \"connections\"))\n",
    "\n",
    "def build_connections(connections, p_connections, connected):\n",
    "    new_connections = []\n",
    "    if p_connections:\n",
    "        p = p_connections[0]\n",
    "        p_connections = p_connections[1:]\n",
    "        for node in connections:\n",
    "            if node.id not in connected and random() < p:\n",
    "                new_connections.append(node)\n",
    "                connected.add(node.id)\n",
    "                new_connections.extend(build_connections(node.connections, p_connections, connected))\n",
    "    return new_connections\n",
    "    \n",
    "\n",
    "def evolve(nodes):\n",
    "    new_nodes = []\n",
    "    for node in nodes:\n",
    "        if random() < node.p_clone:\n",
    "            p_connections = list(node.p_connections)\n",
    "            if random() < _P_CONNECTIONS_CHANGE_LEVEL:\n",
    "                len_change = 1 if random() > 0.5 else -1\n",
    "                if len_change == -1 and len(p_connections) > 1:\n",
    "                    p_connections = p_connections[:-1]\n",
    "                elif len_change == 1:\n",
    "                    p_connections = p_connections + [p_connections[-1]]\n",
    "            p_connections = [randomize_propability(p, _P_CONNECTIONS_DELTA) for p in p_connections]\n",
    "            connected = set()\n",
    "            connections = build_connections([node], p_connections, connected)\n",
    "            new_nodes.append(\n",
    "                Node(uuid4(), randomize_propability(node.p_clone, _P_CLONE_DELTA), p_connections, connections))\n",
    "    return new_nodes\n"
   ]
  },
  {
   "cell_type": "code",
   "execution_count": null,
   "metadata": {
    "collapsed": true
   },
   "outputs": [],
   "source": [
    "nodes = [Node(uuid4(), 0.5, [0.5], [])]"
   ]
  },
  {
   "cell_type": "code",
   "execution_count": null,
   "metadata": {
    "collapsed": false
   },
   "outputs": [],
   "source": [
    "nodes.extend(evolve(nodes))\n",
    "nodes"
   ]
  },
  {
   "cell_type": "code",
   "execution_count": null,
   "metadata": {
    "collapsed": false
   },
   "outputs": [],
   "source": [
    "from graphviz import Digraph\n",
    "from itertools import chain\n",
    "\n",
    "def find_edges(node, visited_nodes):\n",
    "    edges = []\n",
    "    for c in node.connections:\n",
    "        edges.append((node.id, c.id))\n",
    "        if c.id not in visited_nodes:\n",
    "            visited_nodes.append(c.id)\n",
    "            edges.extend(find_edges(c, nodes))\n",
    "    return edges\n",
    "\n",
    "visited_nodes = set((n.id for n in nodes))\n",
    "edges = chain.from_iterable([find_edges(n, visited_nodes) for n in nodes])\n",
    "\n",
    "dot = Digraph()\n",
    "for a, b in edges:\n",
    "    dot.edge(str(a)[:5], str(b)[:5])\n",
    "dot"
   ]
  }
 ],
 "metadata": {
  "kernelspec": {
   "display_name": "Python 3",
   "language": "python",
   "name": "python3"
  },
  "language_info": {
   "codemirror_mode": {
    "name": "ipython",
    "version": 3
   },
   "file_extension": ".py",
   "mimetype": "text/x-python",
   "name": "python",
   "nbconvert_exporter": "python",
   "pygments_lexer": "ipython3",
   "version": "3.4.3+"
  }
 },
 "nbformat": 4,
 "nbformat_minor": 0
}
