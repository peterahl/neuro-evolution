{
 "cells": [
  {
   "cell_type": "code",
   "execution_count": null,
   "metadata": {
    "collapsed": true
   },
   "outputs": [],
   "source": [
    "from random import choice\n",
    "from itertools import chain\n",
    "import matplotlib.pyplot as plt\n",
    "import numpy as np\n",
    "\n",
    "%matplotlib inline"
   ]
  },
  {
   "cell_type": "code",
   "execution_count": null,
   "metadata": {
    "collapsed": false
   },
   "outputs": [],
   "source": [
    "N_LEN = 2 ** 3  # how long is a number?\n",
    "DIALECT = (\"AB\", \"CD\")\n",
    "ALPHABET = tuple(chain.from_iterable([[l + r for r in DIALECT[1]] for l in DIALECT[0]]))\n",
    "DELTA = 1\n",
    "ALPHABET"
   ]
  },
  {
   "cell_type": "code",
   "execution_count": null,
   "metadata": {
    "collapsed": true
   },
   "outputs": [],
   "source": [
    "def number(seq, dialect=(\"AB\", \"CD\"), delta=1):\n",
    "    l = dialect[0]\n",
    "    plus = set(l[:len(l) // 2])\n",
    "    n = 0\n",
    "    for l, _ in seq:\n",
    "        delta /= 2\n",
    "        n = n + (delta if l in plus else -delta)\n",
    "    return n"
   ]
  },
  {
   "cell_type": "code",
   "execution_count": null,
   "metadata": {
    "collapsed": false
   },
   "outputs": [],
   "source": [
    "alphabet_iter = iter(ALPHABET)\n",
    "NETWORK = next(alphabet_iter)\n",
    "GROUP = next(alphabet_iter)\n",
    "LAYER = next(alphabet_iter)\n",
    "\n",
    "n_id = 0\n",
    "g_id = 0\n",
    "l_id = 0\n",
    "\n",
    "connections = []\n",
    "\n",
    "def read_count(seq):\n",
    "    count = None\n",
    "    if len(seq) >= 8:\n",
    "        count = int(round(number(seq[:8], delta=2) + 3))\n",
    "        seq = seq[8:]\n",
    "    return seq, count\n",
    "\n",
    "\n",
    "def process_group(seq, p):\n",
    "    global g_id\n",
    "    seq, count = read_count(seq)\n",
    "    if count is not None:\n",
    "        node_id = \"G{}\".format(g_id)\n",
    "        g_id += 1\n",
    "        print(\"group\", node_id, count)\n",
    "        connections.append((p, node_id))\n",
    "        for _ in range(count):\n",
    "            seq = process_layer(seq, node_id)\n",
    "    return seq\n",
    "\n",
    "def process_layer(seq, p):\n",
    "    global l_id\n",
    "    node_id = \"L{}\".format(l_id)\n",
    "    l_id += 1\n",
    "    print(\"layer\", node_id)\n",
    "    connections.append((p, node_id))\n",
    "    return seq[1:]\n",
    "\n",
    "\n",
    "def process_network(seq, p=None):\n",
    "    global n_id\n",
    "    if seq:\n",
    "        node_id = \"N{}\".format(n_id)\n",
    "        n_id += 1\n",
    "        print(\"network\", node_id)\n",
    "        command = seq[0]\n",
    "        seq = seq[1:]\n",
    "        seq, count = read_count(seq)\n",
    "        if count is not None:\n",
    "            connections.append((p, node_id))\n",
    "            if command == NETWORK:\n",
    "                for _ in range(count):\n",
    "                    seq = process_network(seq, node_id)\n",
    "            if command == GROUP:\n",
    "                for _ in range(count):\n",
    "                    seq = process_group(seq, node_id)\n",
    "    return seq\n",
    "\n",
    "def process_sequence(seq):\n",
    "    node_id = \"R\"\n",
    "    last_len = len(seq)\n",
    "    while seq:\n",
    "        seq = process_network(seq, node_id)\n",
    "        if len(seq) == last_len:\n",
    "            seq = None  # nothing can be done anymore\n"
   ]
  },
  {
   "cell_type": "code",
   "execution_count": null,
   "metadata": {
    "collapsed": false
   },
   "outputs": [],
   "source": [
    "test_seq = [choice(ALPHABET) for _ in range(150)]\n",
    "process_sequence(test_seq)\n",
    "connections"
   ]
  },
  {
   "cell_type": "code",
   "execution_count": null,
   "metadata": {
    "collapsed": false
   },
   "outputs": [],
   "source": [
    "from graphviz import Graph\n",
    "\n",
    "dot = Graph(engine=\"neato\")\n",
    "dot.format = 'png'\n",
    "\n",
    "for edge in connections:\n",
    "    dot.edge(*edge)\n",
    "\n",
    "dot.render('test')\n",
    "dot\n"
   ]
  }
 ],
 "metadata": {
  "kernelspec": {
   "display_name": "Python 3",
   "language": "python",
   "name": "python3"
  },
  "language_info": {
   "codemirror_mode": {
    "name": "ipython",
    "version": 3
   },
   "file_extension": ".py",
   "mimetype": "text/x-python",
   "name": "python",
   "nbconvert_exporter": "python",
   "pygments_lexer": "ipython3",
   "version": "3.4.3+"
  }
 },
 "nbformat": 4,
 "nbformat_minor": 0
}
