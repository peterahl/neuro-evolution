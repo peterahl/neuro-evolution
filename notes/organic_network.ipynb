{
 "cells": [
  {
   "cell_type": "code",
   "execution_count": null,
   "metadata": {
    "autoscroll": "json-false",
    "collapsed": false,
    "ein.tags": [
     "worksheet-0"
    ]
   },
   "outputs": [],
   "source": [
    "from random import choice\n",
    "from itertools import chain\n",
    "import matplotlib.pyplot as plt\n",
    "import numpy as np\n",
    "from graphviz import Graph\n",
    "\n",
    "%matplotlib inline"
   ]
  },
  {
   "cell_type": "code",
   "execution_count": null,
   "metadata": {
    "autoscroll": "json-false",
    "collapsed": false,
    "ein.tags": [
     "worksheet-0"
    ]
   },
   "outputs": [],
   "source": [
    "N_LEN = 2 ** 3  # how long is a number?\n",
    "DIALECT = (\"AB\", \"CD\")\n",
    "ALPHABET = tuple(chain.from_iterable([[l + r for r in DIALECT[1]] for l in DIALECT[0]]))\n",
    "DELTA = 1\n",
    "ALPHABET"
   ]
  },
  {
   "cell_type": "code",
   "execution_count": null,
   "metadata": {
    "autoscroll": "json-false",
    "collapsed": false,
    "ein.tags": [
     "worksheet-0"
    ]
   },
   "outputs": [],
   "source": [
    "def graph(network, render=None):\n",
    "    dot = Graph(engine=\"neato\")\n",
    "    dot.format = 'png'\n",
    "    for edge in network:\n",
    "        dot.edge(*edge)\n",
    "    if render is not None:\n",
    "        dot.render(render)\n",
    "    return dot"
   ]
  },
  {
   "cell_type": "code",
   "execution_count": null,
   "metadata": {
    "autoscroll": "json-false",
    "collapsed": false,
    "ein.tags": [
     "worksheet-0"
    ]
   },
   "outputs": [],
   "source": [
    "def number(seq, dialect=(\"AB\", \"CD\"), delta=1):\n",
    "    l = dialect[0]\n",
    "    plus = set(l[:len(l) // 2])\n",
    "    n = 0\n",
    "    for l, _ in seq:\n",
    "        delta /= 2\n",
    "        n = n + (delta if l in plus else -delta)\n",
    "    return n"
   ]
  },
  {
   "cell_type": "code",
   "execution_count": null,
   "metadata": {
    "autoscroll": "json-false",
    "collapsed": false,
    "ein.tags": [
     "worksheet-0"
    ]
   },
   "outputs": [],
   "source": [
    "alphabet_iter = iter(ALPHABET)\n",
    "NETWORK = next(alphabet_iter)\n",
    "GROUP = next(alphabet_iter)\n",
    "LAYER = next(alphabet_iter)\n",
    "\n",
    "alphabet_iter = iter(ALPHABET)\n",
    "TYPEA = next(alphabet_iter)\n",
    "TYPEB = next(alphabet_iter)\n",
    "TYPEC = next(alphabet_iter)\n",
    "TYPED = next(alphabet_iter)\n",
    "types = {TYPEA, TYPEB, TYPEC, TYPED}\n",
    "\n",
    "n_id = 0\n",
    "g_id = 0\n",
    "l_id = 0\n",
    "\n",
    "\n",
    "def read_count(seq):\n",
    "    count = None\n",
    "    if len(seq) >= 8:\n",
    "        count = int(round(number(seq[:8], delta=2) + 3))\n",
    "        seq = seq[8:]\n",
    "    return seq, count\n",
    "\n",
    "\n",
    "def process_group(seq, p, connections):\n",
    "    global g_id\n",
    "    seq, count = read_count(seq)\n",
    "    if count is not None:\n",
    "        node_id = \"G{}\".format(g_id)\n",
    "        g_id += 1\n",
    "        # print(\"group\", node_id, count)\n",
    "        connections.append((p, node_id))\n",
    "        for _ in range(count):\n",
    "            seq = process_layer(seq, node_id, connections)\n",
    "    return seq\n",
    "\n",
    "def process_layer(seq, p, connections):\n",
    "    global l_id\n",
    "    node_id = str(l_id)\n",
    "    l_id += 1\n",
    "    layer_type = None\n",
    "    while layer_type is None and seq:\n",
    "        element = seq[0]\n",
    "        seq = seq[1:]\n",
    "        if element in types:\n",
    "            layer_type = element\n",
    "    # print(\"layer\", node_id, 'type', layer_type)\n",
    "    connections.append((p, 'L ' + layer_type + node_id))\n",
    "    return seq\n",
    "\n",
    "\n",
    "def process_network(seq, p, connections):\n",
    "    global n_id\n",
    "    if seq:\n",
    "        node_id = \"N{}\".format(n_id)\n",
    "        n_id += 1\n",
    "        # print(\"network\", node_id)\n",
    "        command = seq[0]\n",
    "        seq = seq[1:]\n",
    "        seq, count = read_count(seq)\n",
    "        if count is not None:\n",
    "            connections.append((p, node_id))\n",
    "            if command == NETWORK:\n",
    "                for _ in range(count):\n",
    "                    seq = process_network(seq, node_id, connections)\n",
    "            if command == GROUP:\n",
    "                for _ in range(count):\n",
    "                    seq = process_group(seq, node_id, connections)\n",
    "    return seq\n",
    "\n",
    "def process_sequence(seq, connections):\n",
    "    node_id = \"R\"\n",
    "    last_len = len(seq)\n",
    "    while seq:\n",
    "        seq = process_network(seq, node_id, connections)\n",
    "        if len(seq) == last_len:\n",
    "            seq = None  # nothing can be done anymore\n"
   ]
  },
  {
   "cell_type": "code",
   "execution_count": null,
   "metadata": {
    "autoscroll": "json-false",
    "collapsed": false,
    "ein.tags": [
     "worksheet-0"
    ]
   },
   "outputs": [],
   "source": [
    "network = []\n",
    "test_seq = [choice(ALPHABET) for _ in range(100)]\n",
    "process_sequence(test_seq, network)\n",
    "graph(network)\n",
    "# connections\n",
    "\n"
   ]
  },
  {
   "cell_type": "code",
   "execution_count": null,
   "metadata": {
    "autoscroll": "json-false",
    "collapsed": false,
    "ein.tags": [
     "worksheet-0"
    ]
   },
   "outputs": [],
   "source": [
    "from IPython.display import display\n",
    "network1 = []\n",
    "network2 = []\n",
    "network3 = []\n",
    "test_seq1 = [choice(ALPHABET) for _ in range(200)]\n",
    "process_sequence(test_seq1, network1)\n",
    "test_seq2 = [choice(ALPHABET) for _ in range(200)]\n",
    "process_sequence(test_seq2, network2)\n",
    "\n",
    "test_seq3 = [l1 + r2 for (l1, _) , (_, r2) in zip(test_seq1, test_seq2)]\n",
    "process_sequence(test_seq3, network3)\n",
    "\n",
    "display(graph(network1, 'p1'))\n",
    "display(graph(network2, 'p2'))\n",
    "display(graph(network3, 'c'))\n",
    "# connections\n",
    "\n"
   ]
  }
 ],
 "metadata": {
  "kernelspec": {
   "display_name": "Python 3",
   "language": "python",
   "name": "python3"
  },
  "language_info": {
   "codemirror_mode": {
    "name": "ipython",
    "version": 3
   },
   "file_extension": ".py",
   "mimetype": "text/x-python",
   "name": "python",
   "nbconvert_exporter": "python",
   "pygments_lexer": "ipython3",
   "version": "3.4.3+"
  },
  "name": "organic_network.ipynb"
 },
 "nbformat": 4,
 "nbformat_minor": 0
}
