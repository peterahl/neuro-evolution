{
 "cells": [
  {
   "cell_type": "code",
   "execution_count": 2,
   "metadata": {
    "collapsed": true
   },
   "outputs": [],
   "source": [
    "from random import randint, sample, random, seed\n",
    "from itertools import chain\n",
    "from scipy import sparse\n",
    "from scipy.special import expit\n",
    "import numpy as np\n",
    "from pprint import PrettyPrinter\n",
    "import matplotlib.pyplot as plt\n",
    "from numpy.random import choice, normal\n",
    "from numpy import array\n",
    "from math import floor, ceil\n",
    "\n",
    "%matplotlib inline\n",
    "\n",
    "print = PrettyPrinter(indent=4).pprint"
   ]
  },
  {
   "cell_type": "code",
   "execution_count": 27,
   "metadata": {
    "collapsed": false,
    "scrolled": false
   },
   "outputs": [],
   "source": [
    "_INITIAL_UNITS = 4\n",
    "\n",
    "_INITIAL_MIN_NODES = 8\n",
    "\n",
    "_INITIAL_MAX_NODES = 14\n",
    "\n",
    "_INITIAL_LAYERS_MIN = 3\n",
    "\n",
    "_INITIAL_LAYERS_MAX = 6\n",
    "\n",
    "_INITIAL_MU_RANGE = 0.5\n",
    "\n",
    "_INITIAL_SIGMA = 0.3\n",
    "\n",
    "_INITIAL_OUTDEGREE_MIN = 1\n",
    "\n",
    "_INITIAL_OUTDEGREE_MAX = 4\n",
    "\n",
    "_INITIAL_PROJECTIONS_PER_LAYER = 2\n",
    "\n",
    "_N_INPUT_UNITS = 14\n",
    "\n",
    "_N_OUTPUT_UNITS = 5\n",
    "\n",
    "\n",
    "def _rand_range(rng):\n",
    "    return random() * 2 * rng - rng\n",
    "\n",
    "\n",
    "\n",
    "def _create_initial_structure():\n",
    "    \"\"\"Create the inital randomized structure for the agent.\n",
    "\n",
    "    For the structure, see the ANNStructuredAgent configuration below.\n",
    "\n",
    "    \"\"\"\n",
    "    #seed(11)\n",
    "    # Create units (populations or columns) and layers with their nodes count.\n",
    "    structure = [\n",
    "        [(randint(_INITIAL_MIN_NODES, _INITIAL_MAX_NODES), {})\n",
    "            for _ in range(randint(_INITIAL_LAYERS_MIN, _INITIAL_LAYERS_MAX))]\n",
    "        for _ in range(_INITIAL_UNITS)\n",
    "    ]\n",
    "    \n",
    "    structure[0][0] = (_N_INPUT_UNITS, {})    \n",
    "    structure[-1][-1] = (_N_OUTPUT_UNITS, {})\n",
    "\n",
    "    # For each layer in each unit: add the configuration (connections).\n",
    "\n",
    "    for j, unit in enumerate(structure):\n",
    "        for i, (num_nodes, conns) in enumerate(unit):\n",
    "            # Connect this layer to other layers in the same unit.\n",
    "           \n",
    "            others = sample([n for n in range(len(unit)) if n != 0], _INITIAL_PROJECTIONS_PER_LAYER)\n",
    "            \n",
    "            for o in others:\n",
    "                conns[o] = (\n",
    "                    _rand_range(_INITIAL_MU_RANGE), _INITIAL_SIGMA,\n",
    "                    randint(_INITIAL_OUTDEGREE_MIN, _INITIAL_OUTDEGREE_MAX))\n",
    "\n",
    "            # Connect the last layer of the current unit to other units.\n",
    "\n",
    "            if i == len(unit) - 1 and j < len(structure) - 1:\n",
    "                others = [n for n in range(len(structure)) if n != j]\n",
    "                conns_to_layer = {\n",
    "                    n: (abs(_rand_range(_INITIAL_MU_RANGE)), _INITIAL_SIGMA,\n",
    "                        randint(\n",
    "                            _INITIAL_OUTDEGREE_MIN, _INITIAL_OUTDEGREE_MAX))\n",
    "                    for n in others}\n",
    "                conns[None] = conns_to_layer\n",
    "\n",
    "    return structure\n",
    "\n",
    "structure = _create_initial_structure()\n",
    "\n",
    "\n",
    "\n"
   ]
  },
  {
   "cell_type": "code",
   "execution_count": 29,
   "metadata": {
    "collapsed": false
   },
   "outputs": [
    {
     "name": "stdout",
     "output_type": "stream",
     "text": [
      "[   [   (   14,\n",
      "            {   2: (-0.02929985621379161, 0.3, 4),\n",
      "                4: (-0.2075693874902852, 0.3, 4)}),\n",
      "        (   11,\n",
      "            {   1: (0.15606828273326323, 0.3, 3),\n",
      "                4: (-0.05229359892153118, 0.3, 2)}),\n",
      "        (   12,\n",
      "            {   1: (0.10285198621377745, 0.3, 1),\n",
      "                3: (0.10840737604121709, 0.3, 2)}),\n",
      "        (   9,\n",
      "            {   2: (0.3465803852322701, 0.3, 2),\n",
      "                3: (-0.4212919526486648, 0.3, 1)}),\n",
      "        (   9,\n",
      "            {   None: {   1: (0.21571371063759548, 0.3, 2),\n",
      "                          2: (0.40522116175033396, 0.3, 3),\n",
      "                          3: (0.29458598168897476, 0.3, 1)},\n",
      "                2: (-0.2754596363075448, 0.3, 2),\n",
      "                4: (-0.09203513537257269, 0.3, 3)})],\n",
      "    [   (   10,\n",
      "            {   1: (0.43624234442590104, 0.3, 1),\n",
      "                3: (0.30657362592800896, 0.3, 2)}),\n",
      "        (   10,\n",
      "            {   2: (-0.1748685057884053, 0.3, 4),\n",
      "                3: (0.10617775119569883, 0.3, 3)}),\n",
      "        (   14,\n",
      "            {   3: (-0.06997260945063677, 0.3, 2),\n",
      "                4: (-0.26357002550502817, 0.3, 1)}),\n",
      "        (   14,\n",
      "            {   3: (0.45221703136853153, 0.3, 1),\n",
      "                4: (0.14646310685604647, 0.3, 4)}),\n",
      "        (   13,\n",
      "            {   None: {   0: (0.19668415380587512, 0.3, 2),\n",
      "                          2: (0.21573611058285114, 0.3, 2),\n",
      "                          3: (0.185088765679136, 0.3, 3)},\n",
      "                1: (0.12024997015556216, 0.3, 4),\n",
      "                4: (0.3266093420590369, 0.3, 4)})],\n",
      "    [   (   12,\n",
      "            {   3: (-0.19171093007315065, 0.3, 3),\n",
      "                4: (0.22769323415983478, 0.3, 3)}),\n",
      "        (   9,\n",
      "            {   2: (-0.3830532802536104, 0.3, 1),\n",
      "                4: (0.2906068795533986, 0.3, 1)}),\n",
      "        (   10,\n",
      "            {   1: (-0.2286243859314111, 0.3, 4),\n",
      "                3: (-0.36658998734076975, 0.3, 1)}),\n",
      "        (   13,\n",
      "            {   3: (-0.11883374500738675, 0.3, 4),\n",
      "                4: (0.2999343032373659, 0.3, 3)}),\n",
      "        (   12,\n",
      "            {   None: {   0: (0.010230195636254269, 0.3, 1),\n",
      "                          1: (0.10904807455018872, 0.3, 3),\n",
      "                          3: (0.15409025016204014, 0.3, 4)},\n",
      "                2: (-0.29820235778783877, 0.3, 4),\n",
      "                4: (-0.0015187425128008192, 0.3, 3)})],\n",
      "    [   (   13,\n",
      "            {   1: (0.10106811115940084, 0.3, 3),\n",
      "                4: (-0.34066397915356705, 0.3, 1)}),\n",
      "        (   9,\n",
      "            {   1: (0.44525920140052033, 0.3, 4),\n",
      "                4: (-0.33742381934254606, 0.3, 2)}),\n",
      "        (   9,\n",
      "            {   2: (-0.4760665608256155, 0.3, 4),\n",
      "                3: (-0.32008454050665147, 0.3, 4)}),\n",
      "        (   14,\n",
      "            {   1: (-0.10068294649532972, 0.3, 4),\n",
      "                2: (0.13850377504120748, 0.3, 3)}),\n",
      "        (   5,\n",
      "            {   2: (0.04886726239023975, 0.3, 4),\n",
      "                4: (0.10648615571135855, 0.3, 1)})]]\n"
     ]
    }
   ],
   "source": [
    "print(structure)"
   ]
  },
  {
   "cell_type": "code",
   "execution_count": 63,
   "metadata": {
    "collapsed": false
   },
   "outputs": [
    {
     "name": "stdout",
     "output_type": "stream",
     "text": [
      "[14, 11, 12, 9, 9, 10, 10, 14, 14, 13, 12, 9, 10, 13, 12, 13, 9, 9, 14, 5]\n",
      "[5, 5, 5, 5]\n",
      "[0, 5, 10, 15]\n",
      "222\n",
      "[0, 55, 116, 172]\n",
      "'test'\n",
      "{2: (-0.02929985621379161, 0.3, 4), 4: (-0.2075693874902852, 0.3, 4)}\n",
      "[0, 1, 2, 3, 4, 5, 6, 7, 8, 9, 10, 11, 12, 13]\n",
      "{1: (0.15606828273326323, 0.3, 3), 4: (-0.05229359892153118, 0.3, 2)}\n",
      "[14, 15, 16, 17, 18, 19, 20, 21, 22, 23, 24]\n",
      "{1: (0.10285198621377745, 0.3, 1), 3: (0.10840737604121709, 0.3, 2)}\n",
      "[25, 26, 27, 28, 29, 30, 31, 32, 33, 34, 35, 36]\n",
      "{2: (0.3465803852322701, 0.3, 2), 3: (-0.4212919526486648, 0.3, 1)}\n",
      "[37, 38, 39, 40, 41, 42, 43, 44, 45]\n",
      "{   None: {   1: (0.21571371063759548, 0.3, 2),\n",
      "              2: (0.40522116175033396, 0.3, 3),\n",
      "              3: (0.29458598168897476, 0.3, 1)},\n",
      "    2: (-0.2754596363075448, 0.3, 2),\n",
      "    4: (-0.09203513537257269, 0.3, 3)}\n",
      "[46, 47, 48, 49, 50, 51, 52, 53, 54]\n",
      "{1: (0.43624234442590104, 0.3, 1), 3: (0.30657362592800896, 0.3, 2)}\n",
      "[55, 56, 57, 58, 59, 60, 61, 62, 63, 64]\n",
      "{2: (-0.1748685057884053, 0.3, 4), 3: (0.10617775119569883, 0.3, 3)}\n",
      "[65, 66, 67, 68, 69, 70, 71, 72, 73, 74]\n",
      "{3: (-0.06997260945063677, 0.3, 2), 4: (-0.26357002550502817, 0.3, 1)}\n",
      "[75, 76, 77, 78, 79, 80, 81, 82, 83, 84, 85, 86, 87, 88]\n",
      "{3: (0.45221703136853153, 0.3, 1), 4: (0.14646310685604647, 0.3, 4)}\n",
      "[89, 90, 91, 92, 93, 94, 95, 96, 97, 98, 99, 100, 101, 102]\n",
      "{   None: {   0: (0.19668415380587512, 0.3, 2),\n",
      "              2: (0.21573611058285114, 0.3, 2),\n",
      "              3: (0.185088765679136, 0.3, 3)},\n",
      "    1: (0.12024997015556216, 0.3, 4),\n",
      "    4: (0.3266093420590369, 0.3, 4)}\n",
      "[103, 104, 105, 106, 107, 108, 109, 110, 111, 112, 113, 114, 115]\n",
      "{3: (-0.19171093007315065, 0.3, 3), 4: (0.22769323415983478, 0.3, 3)}\n",
      "[116, 117, 118, 119, 120, 121, 122, 123, 124, 125, 126, 127]\n",
      "{2: (-0.3830532802536104, 0.3, 1), 4: (0.2906068795533986, 0.3, 1)}\n",
      "[128, 129, 130, 131, 132, 133, 134, 135, 136]\n",
      "{1: (-0.2286243859314111, 0.3, 4), 3: (-0.36658998734076975, 0.3, 1)}\n",
      "[137, 138, 139, 140, 141, 142, 143, 144, 145, 146]\n",
      "{3: (-0.11883374500738675, 0.3, 4), 4: (0.2999343032373659, 0.3, 3)}\n",
      "[147, 148, 149, 150, 151, 152, 153, 154, 155, 156, 157, 158, 159]\n",
      "{   None: {   0: (0.010230195636254269, 0.3, 1),\n",
      "              1: (0.10904807455018872, 0.3, 3),\n",
      "              3: (0.15409025016204014, 0.3, 4)},\n",
      "    2: (-0.29820235778783877, 0.3, 4),\n",
      "    4: (-0.0015187425128008192, 0.3, 3)}\n",
      "[160, 161, 162, 163, 164, 165, 166, 167, 168, 169, 170, 171]\n",
      "{1: (0.10106811115940084, 0.3, 3), 4: (-0.34066397915356705, 0.3, 1)}\n",
      "[172, 173, 174, 175, 176, 177, 178, 179, 180, 181, 182, 183, 184]\n",
      "{1: (0.44525920140052033, 0.3, 4), 4: (-0.33742381934254606, 0.3, 2)}\n",
      "[185, 186, 187, 188, 189, 190, 191, 192, 193]\n",
      "{2: (-0.4760665608256155, 0.3, 4), 3: (-0.32008454050665147, 0.3, 4)}\n",
      "[194, 195, 196, 197, 198, 199, 200, 201, 202]\n",
      "{1: (-0.10068294649532972, 0.3, 4), 2: (0.13850377504120748, 0.3, 3)}\n",
      "[203, 204, 205, 206, 207, 208, 209, 210, 211, 212, 213, 214, 215, 216]\n",
      "{2: (0.04886726239023975, 0.3, 4), 4: (0.10648615571135855, 0.3, 1)}\n",
      "[217, 218, 219, 220, 221]\n"
     ]
    }
   ],
   "source": [
    "nodes = 0\n",
    "nodes_per_layer = list(chain.from_iterable([[i[0] for i in j] for j in structure]))\n",
    "print(nodes_per_layer)\n",
    "# n_layers = len(nodes_per_layer)\n",
    "n_nodes = sum(nodes_per_layer)\n",
    "\n",
    "layers_per_unit = [len(unit) for unit in structure]\n",
    "accum_layers_per_unit = [sum(layers_per_unit[0:i]) for i in range(len(layers_per_unit))]\n",
    "\n",
    "print(layers_per_unit)\n",
    "print(accum_layers_per_unit)\n",
    "print(n_nodes)\n",
    "    \n",
    "startnode_in_units = [sum(nodes_per_layer[0:j * len(structure[j-1])]) for j in range(len(structure))]\n",
    "print(startnode_in_units)\n",
    "\n",
    "print(\"test\")\n",
    "\n",
    "wheight_matrix = sparse.lil_matrix((n_nodes, n_nodes))\n",
    "wheight_matrix_normal = np.zeros((n_nodes, n_nodes))\n",
    "\n",
    "for j, unit in enumerate(structure):\n",
    "    for i, (num_nodes, conns) in enumerate(unit):\n",
    "        from_nodes = _node_index(nodes_per_layer, i + accum_layers_per_unit[j])\n",
    "        print(conns)\n",
    "        print(from_nodes)\n",
    "\n",
    "        # from_nodes är en lista med alla \"från-noder\" i aktuellt i\n",
    "        \n",
    "        for o in conns:\n",
    "            to_layer = o + accum_layers_per_unit[j]\n",
    "            #print(\"from \" + str(from_nodes) + \" to layer: \" + str(to_layer))\n",
    "            for from_node, n_projections in zip(from_nodes,\n",
    "                                                _projections(conns[o][2], num_nodes)):\n",
    "                for to_node in choice(_node_index(nodes, to_layer), n_projections):\n",
    "                    wheight = normal(conns[o][0], conns[o][1], 1)[0]\n",
    "                    wheight_matrix[to_node, from_node] = wheight\n",
    "                    wheight_matrix_normal[to_node][from_node] = wheight\n",
    "\n",
    "# for to_unit in others:\n",
    "#     for from_node, n_projections in zip(from_nodes, _projections(conns_to_layer[to_unit][2], num_nodes)):\n",
    "#         for to_node in choice(_node_index(nodes, accum_layers_per_unit[to_unit]), n_projections):\n",
    "#             wheight = normal(conns_to_layer[to_unit][0], conns_to_layer[to_unit][1], 1)[0]\n",
    "#             wheight_matrix[to_node, from_node] = wheight\n",
    "#             wheight_matrix_normal[to_node][from_node] = wheight\n",
    "\n",
    "# cur_layer = 0;\n",
    "\n",
    "#         pass\n",
    "\n",
    "\n",
    "\n",
    "def _node_index(nodes, to_layer):\n",
    "    #print(to_layer)\n",
    "    start = sum(nodes[:to_layer])\n",
    "    stop = start + nodes[to_layer]\n",
    "    return list(range(start,stop))\n",
    "\n",
    "def _projections(out_degree=4.4, n_projecting_nodes=10):\n",
    "    low = int(floor(out_degree))\n",
    "    high = int(ceil(out_degree))\n",
    "    pl = high - out_degree\n",
    "    ph = 1 - pl\n",
    "    return array(choice([low, high], n_projecting_nodes, p=[pl, ph]), dtype=int)\n",
    "\n",
    "\n",
    "def create_matrix(structure):\n",
    "    pass\n"
   ]
  },
  {
   "cell_type": "code",
   "execution_count": 22,
   "metadata": {
    "collapsed": false
   },
   "outputs": [
    {
     "data": {
      "image/png": "[encoded data removed]",
      "text/plain": [
       "<matplotlib.figure.Figure at 0x7fb9564c73c8>"
      ]
     },
     "metadata": {},
     "output_type": "display_data"
    }
   ],
   "source": [
    "plt.figure(figsize=(16,9))\n",
    "heat = plt.pcolor(np.flipud(data), cmap='bwr', vmax=1, vmin=-1)\n",
    "bar = plt.colorbar()\n",
    "# plt.savefig('wheight_matrix.pdf', type='pdf')"
   ]
  },
  {
   "cell_type": "code",
   "execution_count": 6,
   "metadata": {
    "collapsed": false
   },
   "outputs": [
    {
     "name": "stdout",
     "output_type": "stream",
     "text": [
      "(1, 0)\n",
      "(2, 0.5)\n",
      "(3, 0.62245933120185459)\n",
      "(4, 0.65077767821470034)\n"
     ]
    },
    {
     "data": {
      "text/plain": [
       "0.6321205588285577"
      ]
     },
     "execution_count": 6,
     "metadata": {},
     "output_type": "execute_result"
    }
   ],
   "source": [
    "def foo(result, i):\n",
    "    i += 1\n",
    "    print((i, result))\n",
    "    if i == 4: \n",
    "        return result\n",
    "    else: \n",
    "        foo(expit(result), i)\n",
    "\n",
    "foo(0, 0)\n",
    "1-1/np.e"
   ]
  },
  {
   "cell_type": "code",
   "execution_count": 13,
   "metadata": {
    "collapsed": false
   },
   "outputs": [
    {
     "data": {
      "text/plain": [
       "[<matplotlib.lines.Line2D at 0x7fb956d41390>]"
      ]
     },
     "execution_count": 13,
     "metadata": {},
     "output_type": "execute_result"
    },
    {
     "data": {
      "image/png": "[encoded data removed]",
      "text/plain": [
       "<matplotlib.figure.Figure at 0x7fb956c3f390>"
      ]
     },
     "metadata": {},
     "output_type": "display_data"
    }
   ],
   "source": [
    "x = np.linspace(-10,10,100)\n",
    "\n",
    "shift = 5\n",
    "frac = 5\n",
    "\n",
    "plt.figure(figsize=(19,9))\n",
    "plt.plot(x, expit((x)*frac-shift))"
   ]
  }
 ],
 "metadata": {
  "kernelspec": {
   "display_name": "Python 3",
   "language": "python",
   "name": "python3"
  },
  "language_info": {
   "codemirror_mode": {
    "name": "ipython",
    "version": 3
   },
   "file_extension": ".py",
   "mimetype": "text/x-python",
   "name": "python",
   "nbconvert_exporter": "python",
   "pygments_lexer": "ipython3",
   "version": "3.4.3"
  }
 },
 "nbformat": 4,
 "nbformat_minor": 0
}
