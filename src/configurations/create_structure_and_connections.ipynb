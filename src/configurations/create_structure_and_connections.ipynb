{
 "cells": [
  {
   "cell_type": "code",
   "execution_count": 8,
   "metadata": {
    "collapsed": true
   },
   "outputs": [],
   "source": [
    "from random import randint, sample, random, seed\n",
    "from itertools import chain\n",
    "from scipy import sparse\n",
    "from scipy.special import expit\n",
    "import numpy as np\n",
    "from pprint import PrettyPrinter\n",
    "import matplotlib.pyplot as plt\n",
    "from numpy.random import choice, normal\n",
    "from numpy import array\n",
    "from math import floor, ceil\n",
    "\n",
    "%matplotlib inline\n",
    "\n",
    "print = PrettyPrinter(indent=4).pprint"
   ]
  },
  {
   "cell_type": "code",
   "execution_count": 60,
   "metadata": {
    "collapsed": false,
    "scrolled": false
   },
   "outputs": [
    {
     "data": {
      "image/png": "[encoded data removed]",
      "text/plain": [
       "<matplotlib.figure.Figure at 0x7f91bae60358>"
      ]
     },
     "metadata": {},
     "output_type": "display_data"
    }
   ],
   "source": [
    "_INITIAL_UNITS = 3\n",
    "\n",
    "_INITIAL_MIN_NODES = 8\n",
    "\n",
    "_INITIAL_MAX_NODES = 14\n",
    "\n",
    "_INITIAL_LAYERS_MIN = 3\n",
    "\n",
    "_INITIAL_LAYERS_MAX = 5\n",
    "\n",
    "_INITIAL_MU_RANGE = 0.5\n",
    "\n",
    "_INITIAL_SIGMA = 0.3\n",
    "\n",
    "_INITIAL_OUTDEGREE_MIN = 1\n",
    "\n",
    "_INITIAL_OUTDEGREE_MAX = 4\n",
    "\n",
    "_INITIAL_PROJECTIONS_PER_LAYER = 2\n",
    "\n",
    "_N_INPUT_UNITS = 14\n",
    "\n",
    "_N_OUTPUT_UNITS = 5\n",
    "\n",
    "\n",
    "def _rand_range(rng):\n",
    "    return random() * 2 * rng - rng\n",
    "\n",
    "def _node_index(nodes, to_layer):\n",
    "    start = sum(nodes[:to_layer])\n",
    "    stop = start + nodes[to_layer]\n",
    "    return list(range(start,stop))\n",
    "\n",
    "def _projections(out_degree=4.4, n_projecting_nodes=10):\n",
    "    low = int(floor(out_degree))\n",
    "    high = int(ceil(out_degree))\n",
    "    pl = high - out_degree\n",
    "    ph = 1 - pl\n",
    "    return array(choice([low, high], n_projecting_nodes, p=[pl, ph]), dtype=int)\n",
    "\n",
    "def _create_initial_structure():\n",
    "    \"\"\"Create the inital randomized structure for the agent.\n",
    "\n",
    "    For the structure, see the ANNStructuredAgent configuration below.\n",
    "\n",
    "    \"\"\"\n",
    "    # seed(11)\n",
    "    # Create units (populations or columns) and layers with their nodes count.\n",
    "    structure = [\n",
    "        [(randint(_INITIAL_MIN_NODES, _INITIAL_MAX_NODES), {})\n",
    "            for _ in range(randint(_INITIAL_LAYERS_MIN, _INITIAL_LAYERS_MAX))]\n",
    "        for _ in range(_INITIAL_UNITS)\n",
    "    ]\n",
    "    \n",
    "    structure[0][0] = (_N_INPUT_UNITS, {})    \n",
    "    structure[-1][-1] = (_N_OUTPUT_UNITS, {})\n",
    "\n",
    "    nodes = list(chain.from_iterable([[i[0] for i in j] for j in structure]))\n",
    "    n_layers = len(nodes)\n",
    "    n_nodes = sum(nodes)\n",
    "    \n",
    "    wheight_matrix = sparse.lil_matrix((n_nodes, n_nodes))\n",
    "    wheight_matrix_normal = np.zeros((n_nodes, n_nodes))\n",
    "\n",
    "    # For each layer in each unit: add the configuration (connections).\n",
    "\n",
    "   \n",
    "    for j, unit in enumerate(structure):\n",
    "        for i, (num_nodes, conns) in enumerate(unit):\n",
    "            # Connect this layer to other layers in the same unit.\n",
    "            others = sample([n for n in range(len(unit)) if n != 0], _INITIAL_PROJECTIONS_PER_LAYER)\n",
    "            from_nodes = _node_index(nodes, i + j * len(structure[j-1]))\n",
    "            for o in others:\n",
    "                conns[o] = (\n",
    "                    _rand_range(_INITIAL_MU_RANGE), _INITIAL_SIGMA,\n",
    "                    randint(_INITIAL_OUTDEGREE_MIN, _INITIAL_OUTDEGREE_MAX))\n",
    "                \n",
    "                for from_node, n_projections in zip(from_nodes, _projections(conns[o][2], num_nodes)):\n",
    "                    to_layer = o + j * len(structure[j-1])\n",
    "                    for to_node in choice(_node_index(nodes, to_layer), n_projections):\n",
    "                        wheight = normal(conns[o][0], conns[o][1], 1)[0]\n",
    "                        wheight_matrix[to_node, from_node] = wheight\n",
    "                        wheight_matrix_normal[to_node][from_node] = wheight\n",
    "\n",
    "            # Connect the last layer of the current unit to other units.\n",
    "            # TODO: Add wheights for this connection\n",
    "            if i == len(unit) - 1 and j < len(structure) - 1:\n",
    "                others = [n for n in range(len(structure)) if n != j]\n",
    "                conns[None] = {\n",
    "                    n: (abs(_rand_range(_INITIAL_MU_RANGE)), _INITIAL_SIGMA,\n",
    "                        randint(\n",
    "                            _INITIAL_OUTDEGREE_MIN, _INITIAL_OUTDEGREE_MAX))\n",
    "                    for n in others}\n",
    "\n",
    "    # print(structure)\n",
    "    return wheight_matrix, wheight_matrix_normal\n",
    "\n",
    "w_matrix, data = _create_initial_structure()\n",
    "\n",
    "\n",
    "\n",
    "plt.figure(figsize=(16,9))\n",
    "heat = plt.pcolor(np.flipud(data), cmap='bwr', vmax=1, vmin=-1)\n",
    "bar = plt.colorbar()"
   ]
  },
  {
   "cell_type": "code",
   "execution_count": null,
   "metadata": {
    "collapsed": false
   },
   "outputs": [],
   "source": [
    "def _create_conections(n_nodes=10):\n",
    "    \n",
    "    test = sparse.lil_matrix((n_nodes, n_nodes))\n",
    "#     indexes = np.array(sample(range(n_nodes), 5))\n",
    "\n",
    "    list = np.random.random_integers(1,5,n_nodes)\n",
    "    proj = projections()\n",
    "    test[0, 1] = 1\n",
    "\n",
    "    print(list)\n",
    "\n",
    "    out = test.dot(list)\n",
    "    \n",
    "    print(out)\n",
    "\n",
    "_create_conections(n_nodes, structure)"
   ]
  },
  {
   "cell_type": "code",
   "execution_count": null,
   "metadata": {
    "collapsed": false
   },
   "outputs": [],
   "source": [
    "def foo(result, i):\n",
    "    i += 1\n",
    "    print((i, result))\n",
    "    if i == 10: \n",
    "        return result\n",
    "    else: \n",
    "        foo(expit(result), i)\n",
    "\n",
    "foo(0, 0)\n",
    "1-1/np.e"
   ]
  },
  {
   "cell_type": "code",
   "execution_count": 6,
   "metadata": {
    "collapsed": false
   },
   "outputs": [
    {
     "name": "stdout",
     "output_type": "stream",
     "text": [
      "(5, 0)\n",
      "(6, 1)\n",
      "(7, 2)\n",
      "(8, 3)\n",
      "(9, 4)\n"
     ]
    }
   ],
   "source": [
    "for i,j in zip(range(5,10),range(5)):\n",
    "    print((i, j))"
   ]
  },
  {
   "cell_type": "code",
   "execution_count": 10,
   "metadata": {
    "collapsed": false
   },
   "outputs": [
    {
     "data": {
      "text/plain": [
       "array([ 0.95754883,  1.00572605,  1.14419624,  0.88197565,  0.99016863,\n",
       "        0.99391393,  0.80766495,  1.02531367,  1.22224533,  0.74720912])"
      ]
     },
     "execution_count": 10,
     "metadata": {},
     "output_type": "execute_result"
    }
   ],
   "source": [
    "normal(1,0.2,10)"
   ]
  },
  {
   "cell_type": "code",
   "execution_count": null,
   "metadata": {
    "collapsed": false
   },
   "outputs": [],
   "source": [
    "x = np.linspace(-10,10,100)\n",
    "\n",
    "shift = 5\n",
    "frac = 5\n",
    "\n",
    "plt.figure(figsize=(19,9))\n",
    "plt.plot(x, expit((x)*frac-shift))"
   ]
  }
 ],
 "metadata": {
  "kernelspec": {
   "display_name": "Python 3",
   "language": "python",
   "name": "python3"
  },
  "language_info": {
   "codemirror_mode": {
    "name": "ipython",
    "version": 3
   },
   "file_extension": ".py",
   "mimetype": "text/x-python",
   "name": "python",
   "nbconvert_exporter": "python",
   "pygments_lexer": "ipython3",
   "version": "3.4.3"
  }
 },
 "nbformat": 4,
 "nbformat_minor": 0
}
