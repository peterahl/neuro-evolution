{
 "cells": [
  {
   "cell_type": "code",
   "execution_count": 4,
   "metadata": {
    "collapsed": true
   },
   "outputs": [],
   "source": [
    "from random import randint, sample, random, seed\n",
    "from itertools import chain\n",
    "from scipy import sparse\n",
    "from scipy.special import expit\n",
    "import numpy as np\n",
    "from pprint import PrettyPrinter\n",
    "import matplotlib.pyplot as plt\n",
    "from numpy.random import choice, normal\n",
    "from numpy import array\n",
    "from math import floor, ceil\n",
    "\n",
    "%matplotlib inline\n",
    "\n",
    "print = PrettyPrinter(indent=4).pprint"
   ]
  },
  {
   "cell_type": "code",
   "execution_count": null,
   "metadata": {
    "collapsed": true
   },
   "outputs": [],
   "source": [
    "_INITIAL_UNITS = 3\n",
    "\n",
    "_INITIAL_MIN_NODES = 8\n",
    "\n",
    "_INITIAL_MAX_NODES = 14\n",
    "\n",
    "_INITIAL_LAYERS_MIN = 3\n",
    "\n",
    "_INITIAL_LAYERS_MAX = 6\n",
    "\n",
    "_INITIAL_MU_RANGE = 0.5\n",
    "\n",
    "_INITIAL_SIGMA = 0.3\n",
    "\n",
    "_INITIAL_OUTDEGREE_MIN = 1\n",
    "\n",
    "_INITIAL_OUTDEGREE_MAX = 4\n",
    "\n",
    "_INITIAL_PROJECTIONS_PER_LAYER = 2\n",
    "\n",
    "_N_INPUT_UNITS = 14\n",
    "\n",
    "_N_OUTPUT_UNITS = 5\n",
    "\n",
    "\n",
    "def _rand_range(rng):\n",
    "    return random() * 2 * rng - rng\n",
    "\n",
    "\n",
    "\n",
    "def _create_initial_structure():\n",
    "    \"\"\"Create the inital randomized structure for the agent.\n",
    "\n",
    "    For the structure, see the ANNStructuredAgent configuration below.\n",
    "\n",
    "    \"\"\"\n",
    "    #seed(11)\n",
    "    # Create units (populations or columns) and layers with their nodes count.\n",
    "    structure = [\n",
    "        [(randint(_INITIAL_MIN_NODES, _INITIAL_MAX_NODES), {})\n",
    "            for _ in range(randint(_INITIAL_LAYERS_MIN, _INITIAL_LAYERS_MAX))]\n",
    "        for _ in range(_INITIAL_UNITS)\n",
    "    ]\n",
    "    \n",
    "    structure[0][0] = (_N_INPUT_UNITS, {})    \n",
    "    structure[-1][-1] = (_N_OUTPUT_UNITS, {})\n",
    "\n",
    "    # For each layer in each unit: add the configuration (connections).\n",
    "\n",
    "    for j, unit in enumerate(structure):\n",
    "        for i, (num_nodes, conns) in enumerate(unit):\n",
    "            # Connect this layer to other layers in the same unit.\n",
    "           \n",
    "            others = sample([n for n in range(len(unit)) if n != 0], _INITIAL_PROJECTIONS_PER_LAYER)\n",
    "            \n",
    "            for o in others:\n",
    "                conns[o] = (\n",
    "                    _rand_range(_INITIAL_MU_RANGE), _INITIAL_SIGMA,\n",
    "                    randint(_INITIAL_OUTDEGREE_MIN, _INITIAL_OUTDEGREE_MAX))\n",
    "\n",
    "            # Connect the last layer of the current unit to other units.\n",
    "\n",
    "            if i == len(unit) - 1 and j < len(structure) - 1:\n",
    "                others = [n for n in range(len(structure)) if n != j]\n",
    "                conns_to_layer = {\n",
    "                    n: (abs(_rand_range(_INITIAL_MU_RANGE)), _INITIAL_SIGMA,\n",
    "                        randint(\n",
    "                            _INITIAL_OUTDEGREE_MIN, _INITIAL_OUTDEGREE_MAX))\n",
    "                    for n in others}\n",
    "                conns[None] = conns_to_layer\n",
    "\n",
    "    return structure\n",
    "\n",
    "structure = _create_initial_structure()\n",
    "\n",
    "\n",
    "\n",
    "def _node_index(nodes, to_layer):\n",
    "    #print(to_layer)\n",
    "    start = sum(nodes[:to_layer])\n",
    "    stop = start + nodes[to_layer]\n",
    "    return list(range(start,stop))\n",
    "\n",
    "def _projections(out_degree=4.4, n_projecting_nodes=10):\n",
    "    low = int(floor(out_degree))\n",
    "    high = int(ceil(out_degree))\n",
    "    pl = high - out_degree\n",
    "    ph = 1 - pl\n",
    "    return array(choice([low, high], n_projecting_nodes, p=[pl, ph]), dtype=int)\n",
    "\n",
    "\n",
    "def create_matrix(structure):\n",
    "    \n",
    "    nodes_per_layer = list(chain.from_iterable([[i[0] for i in j] for j in structure]))\n",
    "    n_nodes = sum(nodes_per_layer)\n",
    "    print(n_nodes)\n",
    "    layers_per_unit = [len(unit) for unit in structure]\n",
    "\n",
    "    accum_layers_per_unit = [sum(layers_per_unit[0:i]) for i in range(len(layers_per_unit))]\n",
    "\n",
    "    wheight_matrix = sparse.lil_matrix((n_nodes, n_nodes))\n",
    "    wheight_matrix_normal = np.zeros((n_nodes, n_nodes))\n",
    "\n",
    "    for j, unit in enumerate(structure):\n",
    "        for i, (num_nodes, conns) in enumerate(unit):\n",
    "            from_nodes = _node_index(nodes_per_layer, i + accum_layers_per_unit[j])\n",
    "\n",
    "            # from_nodes är en lista med alla \"från-noder\" i aktuellt i\n",
    "            others = conns.keys()\n",
    "\n",
    "            for o in others:\n",
    "                if o:\n",
    "                    to_layer = o + accum_layers_per_unit[j]\n",
    "                    #print(\"from \" + str(from_nodes) + \" to layer: \" + str(to_layer))\n",
    "                    for from_node, n_projections in zip(from_nodes,\n",
    "                                                        _projections(conns[o][2], num_nodes)):\n",
    "                        for to_node in choice(_node_index(nodes_per_layer, to_layer),\n",
    "                                              n_projections):\n",
    "                            wheight = normal(conns[o][0], conns[o][1], 1)[0]\n",
    "                            wheight_matrix[to_node, from_node] = wheight\n",
    "                            wheight_matrix_normal[to_node][from_node] = wheight\n",
    "                else:\n",
    "                    # this happens if other (o) is none\n",
    "                    conns_to_layer = conns[o]\n",
    "                    for to_unit in conns_to_layer.keys():\n",
    "                        if to_unit:\n",
    "                            to_layer = accum_layers_per_unit[to_unit]\n",
    "                            for from_node, n_projections in zip(from_nodes,\n",
    "                                                                _projections(conns_to_layer[to_unit][2], \n",
    "                                                                             num_nodes)):\n",
    "\n",
    "                                for to_node in choice(_node_index(nodes_per_layer, to_layer), \n",
    "                                                      n_projections):\n",
    "\n",
    "                                    wheight = normal(conns_to_layer[to_unit][0], conns_to_layer[to_unit][1], 1)[0]\n",
    "#                                     wheight = normal(j+1, 0.1, 1)[0]\n",
    "                                    wheight_matrix[to_node, from_node] = wheight\n",
    "                                    wheight_matrix_normal[to_node][from_node] = wheight\n",
    "                                \n",
    "    return wheight_matrix, wheight_matrix_normal, n_nodes\n",
    "\n",
    "wheight_matrix, wheight_matrix_normal, n_nodes = create_matrix(structure)"
   ]
  },
  {
   "cell_type": "code",
   "execution_count": 33,
   "metadata": {
    "collapsed": false
   },
   "outputs": [
    {
     "name": "stdout",
     "output_type": "stream",
     "text": [
      "138\n",
      "array([0, 0, 0, 1, 0, 0, 0, 0, 0, 1, 1, 0, 0, 0])\n"
     ]
    },
    {
     "data": {
      "image/png": "[encoded data removed]",
      "text/plain": [
       "<matplotlib.figure.Figure at 0x7f3e698060b8>"
      ]
     },
     "metadata": {},
     "output_type": "display_data"
    }
   ],
   "source": [
    "dim = wheight_matrix_normal.shape\n",
    "\n",
    "work_vec = np.zeros(dim[0])\n",
    "print(len(work_vec))\n",
    "\n",
    "frac = 7\n",
    "shift = 3\n",
    "\n",
    "outResult = work_vec\n",
    "input_vec = np.random.choice([0, 1], _N_INPUT_UNITS, p=(0.7, 0.3))\n",
    "print(input_vec)\n",
    "work_vec[0:_N_INPUT_UNITS] = input_vec\n",
    "for i in range(100):\n",
    "    if i%10 == 0: \n",
    "        input_vec = np.random.choice([0, 1], _N_INPUT_UNITS, p=(0.7, 0.3))\n",
    "    work_vec = (expit(wheight_matrix_normal.dot(work_vec)*frac-shift))\n",
    "    work_vec[0:_N_INPUT_UNITS] = input_vec\n",
    "    outResult = np.vstack((outResult,work_vec))\n",
    "\n",
    "plt.figure(figsize=(16,9))\n",
    "plt.pcolor(np.transpose(outResult), cmap='bwr')\n",
    "plt.ylabel('unit number')\n",
    "plt.xlabel('itteration number')\n",
    "bar = plt.colorbar()\n",
    "# plt.savefig('nodes_evolution.png')"
   ]
  },
  {
   "cell_type": "code",
   "execution_count": 5,
   "metadata": {
    "collapsed": false,
    "scrolled": false
   },
   "outputs": [
    {
     "name": "stdout",
     "output_type": "stream",
     "text": [
      "138\n"
     ]
    },
    {
     "data": {
      "image/png": "[encoded data removed]",
      "text/plain": [
       "<matplotlib.figure.Figure at 0x7f3e6a3e9c18>"
      ]
     },
     "metadata": {},
     "output_type": "display_data"
    }
   ],
   "source": [
    "plt.figure(figsize=(16,9))\n",
    "heat = plt.pcolor(np.flipud(wheight_matrix_normal), cmap='bwr', vmax=1, vmin=-1)\n",
    "bar = plt.colorbar()\n",
    "# plt.savefig('wheight_matrix.pdf', type='pdf')"
   ]
  },
  {
   "cell_type": "code",
   "execution_count": 67,
   "metadata": {
    "collapsed": false
   },
   "outputs": [
    {
     "name": "stdout",
     "output_type": "stream",
     "text": [
      "(1, 0)\n",
      "(2, 0.5)\n",
      "(3, 0.62245933120185459)\n",
      "(4, 0.65077767821470045)\n",
      "(5, 0.65718568927725118)\n",
      "(6, 0.65862790952095107)\n",
      "(7, 0.65895210003927285)\n",
      "(8, 0.65902495299094022)\n",
      "(9, 0.65904132366557999)\n",
      "(10, 0.65904500224248297)\n"
     ]
    },
    {
     "data": {
      "text/plain": [
       "0.6321205588285577"
      ]
     },
     "execution_count": 67,
     "metadata": {},
     "output_type": "execute_result"
    }
   ],
   "source": [
    "def foo(result, i):\n",
    "    i += 1\n",
    "    print((i, result))\n",
    "    if i == 10: \n",
    "        return result\n",
    "    else: \n",
    "        foo(expit(result), i)\n",
    "\n",
    "foo(0, 0)\n",
    "1-1/np.e"
   ]
  },
  {
   "cell_type": "code",
   "execution_count": 110,
   "metadata": {
    "collapsed": false
   },
   "outputs": [
    {
     "data": {
      "text/plain": [
       "array([0, 0, 1, 1, 0, 0, 1, 1, 1, 1, 0, 1, 0, 1])"
      ]
     },
     "execution_count": 110,
     "metadata": {},
     "output_type": "execute_result"
    }
   ],
   "source": [
    "np.random.choice(2,_N_INPUT_UNITS)\n"
   ]
  },
  {
   "cell_type": "code",
   "execution_count": 127,
   "metadata": {
    "collapsed": false
   },
   "outputs": [
    {
     "data": {
      "text/plain": [
       "0"
      ]
     },
     "execution_count": 127,
     "metadata": {},
     "output_type": "execute_result"
    }
   ],
   "source": [
    "a= 4\n",
    "a%4"
   ]
  },
  {
   "cell_type": "code",
   "execution_count": null,
   "metadata": {
    "collapsed": true
   },
   "outputs": [],
   "source": []
  },
  {
   "cell_type": "code",
   "execution_count": null,
   "metadata": {
    "collapsed": true
   },
   "outputs": [],
   "source": []
  },
  {
   "cell_type": "code",
   "execution_count": 99,
   "metadata": {
    "collapsed": false
   },
   "outputs": [
    {
     "data": {
      "text/plain": [
       "array([[ 0.,  0.,  0.,  0.,  0.,  0.,  0.,  0.,  0.,  0.,  0.,  0.,  0.,\n",
       "         0.,  0.,  0.,  0.,  0.,  0.,  0.,  0.,  0.,  0.,  0.,  0.,  0.,\n",
       "         0.,  0.,  0.,  0.,  0.,  0.,  0.,  0.,  0.,  0.,  0.,  0.,  0.,\n",
       "         0.,  0.,  0.,  0.,  0.,  0.,  0.,  0.,  0.,  0.,  0.,  0.,  0.,\n",
       "         0.,  0.,  0.,  0.,  0.,  0.,  0.,  0.,  0.,  0.,  0.,  0.,  0.,\n",
       "         0.,  0.,  0.,  0.,  0.,  0.,  0.,  0.,  0.,  0.,  0.,  0.,  0.,\n",
       "         0.,  0.,  0.,  0.,  0.,  0.,  0.,  0.,  0.,  0.,  0.,  0.,  0.,\n",
       "         0.,  0.,  0.,  0.,  0.,  0.,  0.,  0.,  0.,  0.,  0.,  0.,  0.,\n",
       "         0.,  0.,  0.,  0.,  0.,  0.,  0.,  0.,  0.,  0.,  0.,  0.,  0.,\n",
       "         0.,  0.,  0.,  0.,  0.,  0.,  0.,  0.,  0.,  0.,  0.,  0.,  0.,\n",
       "         0.,  0.,  0.,  0.,  0.],\n",
       "       [ 0.,  0.,  0.,  0.,  0.,  0.,  0.,  0.,  0.,  0.,  0.,  0.,  0.,\n",
       "         0.,  0.,  0.,  0.,  0.,  0.,  0.,  0.,  0.,  0.,  0.,  0.,  0.,\n",
       "         0.,  0.,  0.,  0.,  0.,  0.,  0.,  0.,  0.,  0.,  0.,  0.,  0.,\n",
       "         0.,  0.,  0.,  0.,  0.,  0.,  0.,  0.,  0.,  0.,  0.,  0.,  0.,\n",
       "         0.,  0.,  0.,  0.,  0.,  0.,  0.,  0.,  0.,  0.,  0.,  0.,  0.,\n",
       "         0.,  0.,  0.,  0.,  0.,  0.,  0.,  0.,  0.,  0.,  0.,  0.,  0.,\n",
       "         0.,  0.,  0.,  0.,  0.,  0.,  0.,  0.,  0.,  0.,  0.,  0.,  0.,\n",
       "         0.,  0.,  0.,  0.,  0.,  0.,  0.,  0.,  0.,  0.,  0.,  0.,  0.,\n",
       "         0.,  0.,  0.,  0.,  0.,  0.,  0.,  0.,  0.,  0.,  0.,  0.,  0.,\n",
       "         0.,  0.,  0.,  0.,  0.,  0.,  0.,  0.,  0.,  0.,  0.,  0.,  0.,\n",
       "         0.,  0.,  0.,  0.,  0.]])"
      ]
     },
     "execution_count": 99,
     "metadata": {},
     "output_type": "execute_result"
    }
   ],
   "source": [
    "a = np.array([1,2,3,4])\n",
    "np.vstack((a,a))\n",
    "\n",
    "a = np.zeros(dim[0])\n",
    "np.vstack((a,a))\n",
    "\n"
   ]
  },
  {
   "cell_type": "code",
   "execution_count": 21,
   "metadata": {
    "collapsed": false
   },
   "outputs": [
    {
     "data": {
      "text/plain": [
       "[<matplotlib.lines.Line2D at 0x7f3e69df2710>]"
      ]
     },
     "execution_count": 21,
     "metadata": {},
     "output_type": "execute_result"
    },
    {
     "data": {
      "image/png": "[encoded data removed]",
      "text/plain": [
       "<matplotlib.figure.Figure at 0x7f3e69a4d240>"
      ]
     },
     "metadata": {},
     "output_type": "display_data"
    }
   ],
   "source": [
    "x = np.linspace(-10,10,100)\n",
    "\n",
    "shift = 3\n",
    "frac = 5\n",
    "\n",
    "plt.figure(figsize=(19,9))\n",
    "plt.plot(x, expit((x)*frac-shift))"
   ]
  }
 ],
 "metadata": {
  "kernelspec": {
   "display_name": "Python 3",
   "language": "python",
   "name": "python3"
  },
  "language_info": {
   "codemirror_mode": {
    "name": "ipython",
    "version": 3
   },
   "file_extension": ".py",
   "mimetype": "text/x-python",
   "name": "python",
   "nbconvert_exporter": "python",
   "pygments_lexer": "ipython3",
   "version": "3.4.3"
  }
 },
 "nbformat": 4,
 "nbformat_minor": 0
}
