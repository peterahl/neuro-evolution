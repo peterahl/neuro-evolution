{
 "cells": [
  {
   "cell_type": "code",
   "execution_count": 188,
   "metadata": {
    "collapsed": true
   },
   "outputs": [],
   "source": [
    "from random import randint, sample, random, seed\n",
    "from itertools import chain\n",
    "from scipy import sparse\n",
    "from scipy.special import expit\n",
    "import numpy as np\n",
    "from pprint import PrettyPrinter\n",
    "import matplotlib.pyplot as plt\n",
    "from numpy.random import choice\n",
    "from numpy import array\n",
    "from math import floor, ceil\n",
    "\n",
    "%matplotlib inline\n",
    "\n",
    "print = PrettyPrinter(indent=4).pprint"
   ]
  },
  {
   "cell_type": "code",
   "execution_count": 187,
   "metadata": {
    "collapsed": false
   },
   "outputs": [
    {
     "ename": "NameError",
     "evalue": "name 'out' is not defined",
     "output_type": "error",
     "traceback": [
      "\u001b[1;31m---------------------------------------------------------------------------\u001b[0m",
      "\u001b[1;31mNameError\u001b[0m                                 Traceback (most recent call last)",
      "\u001b[1;32m<ipython-input-187-3ccb3af2cbe7>\u001b[0m in \u001b[0;36m<module>\u001b[1;34m()\u001b[0m\n\u001b[0;32m     16\u001b[0m     \u001b[0mout\u001b[0m \u001b[1;33m=\u001b[0m \u001b[0mtest\u001b[0m\u001b[1;33m.\u001b[0m\u001b[0mdot\u001b[0m\u001b[1;33m(\u001b[0m\u001b[0mvec\u001b[0m\u001b[1;33m)\u001b[0m\u001b[1;33m\u001b[0m\u001b[0m\n\u001b[0;32m     17\u001b[0m \u001b[1;33m\u001b[0m\u001b[0m\n\u001b[1;32m---> 18\u001b[1;33m \u001b[0mprint\u001b[0m\u001b[1;33m(\u001b[0m\u001b[0mout\u001b[0m\u001b[1;33m)\u001b[0m\u001b[1;33m\u001b[0m\u001b[0m\n\u001b[0m",
      "\u001b[1;31mNameError\u001b[0m: name 'out' is not defined"
     ]
    }
   ],
   "source": [
    "\n",
    "def _create_conections(n_nodes=10, ):\n",
    "\n",
    "\n",
    "    test = sparse.lil_matrix((n_nodes, n_nodes))\n",
    "\n",
    "    indexes = np.array(sample(range(n_nodes), 5))\n",
    "\n",
    "    test[0, 1] = 1\n",
    "\n",
    "    print(vec)\n",
    "\n",
    "    out = test.dot(vec)\n",
    "\n",
    "print(out)"
   ]
  },
  {
   "cell_type": "code",
   "execution_count": null,
   "metadata": {
    "collapsed": false
   },
   "outputs": [],
   "source": [
    "my_dict = {'test': 5}\n",
    "ret = my_dict.get('other')\n",
    "print(ret)"
   ]
  },
  {
   "cell_type": "code",
   "execution_count": 172,
   "metadata": {
    "collapsed": false
   },
   "outputs": [
    {
     "data": {
      "text/plain": [
       "[8, 36, 48]"
      ]
     },
     "execution_count": 172,
     "metadata": {},
     "output_type": "execute_result"
    }
   ],
   "source": [
    "seed(1)\n",
    "sample(range(50), 3)"
   ]
  },
  {
   "cell_type": "code",
   "execution_count": null,
   "metadata": {
    "collapsed": false
   },
   "outputs": [],
   "source": [
    "%whos"
   ]
  },
  {
   "cell_type": "code",
   "execution_count": null,
   "metadata": {
    "collapsed": false
   },
   "outputs": [],
   "source": [
    "\n",
    "\n",
    "mean = 4.4\n",
    "n_projecting_nodes = 1000\n",
    "low = int(floor(mean))\n",
    "high = int(ceil(mean))\n",
    "pl = high - mean\n",
    "ph = 1 - pl\n",
    "\n",
    "arr = array(choice([low, high], n_projecting_nodes, p=[pl, ph]), dtype=int)\n",
    "np.sum(arr)/n_projecting_nodes"
   ]
  },
  {
   "cell_type": "code",
   "execution_count": 180,
   "metadata": {
    "collapsed": false,
    "scrolled": false
   },
   "outputs": [
    {
     "name": "stdout",
     "output_type": "stream",
     "text": [
      "[   [(14, {}), (12, {}), (14, {}), (14, {})],\n",
      "    [(11, {}), (12, {}), (14, {}), (5, {})]]\n",
      "96\n",
      "[   [   (   14,\n",
      "            {   1: (0.30390031272104856, 0.3, 3),\n",
      "                3: (0.12988272021680192, 0.3, 1)}),\n",
      "        (   12,\n",
      "            {   1: (-0.1965987373754745, 0.3, 0),\n",
      "                2: (0.038693508577678504, 0.3, 0)}),\n",
      "        (   14,\n",
      "            {   2: (0.15007097391407254, 0.3, 4),\n",
      "                3: (0.46475778112556676, 0.3, 4)}),\n",
      "        (   14,\n",
      "            {   None: {1: (0.46991741077521143, 0.3, 3)},\n",
      "                1: (-0.440448894831145, 0.3, 1),\n",
      "                3: (0.37956497253435106, 0.3, 4)})],\n",
      "    [   (   11,\n",
      "            {   2: (0.09095944346805751, 0.3, 1),\n",
      "                3: (0.019124114764076716, 0.3, 2)}),\n",
      "        (   12,\n",
      "            {   1: (0.15480163900675548, 0.3, 3),\n",
      "                2: (0.16244953189036815, 0.3, 3)}),\n",
      "        (   14,\n",
      "            {   1: (0.2579900490467689, 0.3, 4),\n",
      "                3: (0.20780962149794946, 0.3, 2)}),\n",
      "        (   5,\n",
      "            {   1: (-0.09960019508150897, 0.3, 2),\n",
      "                2: (-0.4297765004400741, 0.3, 0)})]]\n"
     ]
    }
   ],
   "source": [
    "_INITIAL_UNITS = 2\n",
    "\n",
    "_INITIAL_MIN_NODES = 8\n",
    "\n",
    "_INITIAL_MAX_NODES = 14\n",
    "\n",
    "_INITIAL_LAYERS_MIN = 3\n",
    "\n",
    "_INITIAL_LAYERS_MAX = 5\n",
    "\n",
    "_INITIAL_MU_RANGE = 0.5\n",
    "\n",
    "_INITIAL_SIGMA = 0.3\n",
    "\n",
    "_INITIAL_OUTDEGREE_MIN = 0\n",
    "\n",
    "_INITIAL_OUTDEGREE_MAX = 4\n",
    "\n",
    "_INITIAL_PROJECTIONS_PER_LAYER = 2\n",
    "\n",
    "_N_INPUT_UNITS = 14\n",
    "\n",
    "_N_OUTPUT_UNITS = 5\n",
    "\n",
    "\n",
    "def _rand_range(rng):\n",
    "    return random() * 2 * rng - rng\n",
    "\n",
    "\n",
    "def _create_initial_structure():\n",
    "    \"\"\"Create the inital randomized structure for the agent.\n",
    "\n",
    "    For the structure, see the ANNStructuredAgent configuration below.\n",
    "\n",
    "    \"\"\"\n",
    "    seed(11)\n",
    "    # Create units (populations or columns) and layers with their nodes count.\n",
    "    structure = [\n",
    "        [(randint(_INITIAL_MIN_NODES, _INITIAL_MAX_NODES), {})\n",
    "            for _ in range(randint(_INITIAL_LAYERS_MIN, _INITIAL_LAYERS_MAX))]\n",
    "        for _ in range(_INITIAL_UNITS)\n",
    "    ]\n",
    "    \n",
    "    structure[0][0] = (_N_INPUT_UNITS, {})    \n",
    "    structure[-1][-1] = (_N_OUTPUT_UNITS, {})\n",
    "    \n",
    "    print(structure)\n",
    "    \n",
    "    nodes = list(chain.from_iterable([[i[0] for i in j] for j in structure]))\n",
    "    n_layers = len(nodes)\n",
    "    n_nodes = sum(nodes)\n",
    "    print(n_nodes)\n",
    "\n",
    "    \n",
    "    # For each layer in each unit: add the configuration (connections).\n",
    "    \n",
    "    for j, unit in enumerate(structure):\n",
    "        for i, (_, conns) in enumerate(unit):\n",
    "            # Connect this layer to other layers in the same unit.\n",
    "            others = sample([n for n in range(len(unit)) if n != 0], _INITIAL_PROJECTIONS_PER_LAYER)\n",
    "            for o in others:\n",
    "                conns[o] = (\n",
    "                    _rand_range(_INITIAL_MU_RANGE), _INITIAL_SIGMA,\n",
    "                    randint(_INITIAL_OUTDEGREE_MIN, _INITIAL_OUTDEGREE_MAX))\n",
    "            # Connect the last layer of the current unit to other units.\n",
    "            if i == len(unit) - 1 and j < len(structure) - 1:\n",
    "                others = [n for n in range(len(structure)) if n != j]\n",
    "                conns[None] = {\n",
    "                    n: (abs(_rand_range(_INITIAL_MU_RANGE)), _INITIAL_SIGMA,\n",
    "                        randint(\n",
    "                            _INITIAL_OUTDEGREE_MIN, _INITIAL_OUTDEGREE_MAX))\n",
    "                    for n in others}\n",
    "    # TODO: set nodes count for global input and output manually.\n",
    "    return structure, nodes, n_nodes, n_layers\n",
    "\n",
    "structure, nodes, n_nodes, n_layers = _create_initial_structure()\n",
    "\n",
    "\n",
    "\n",
    "\n",
    "\n",
    "print(structure)"
   ]
  },
  {
   "cell_type": "code",
   "execution_count": null,
   "metadata": {
    "collapsed": false
   },
   "outputs": [],
   "source": [
    "def foo(result, i):\n",
    "    i += 1\n",
    "    print((i, result))\n",
    "    if i == 50: \n",
    "        return result\n",
    "    else: \n",
    "        foo(expit(result), i)\n",
    "\n",
    "foo(0, 0)\n",
    "1-1/np.e"
   ]
  },
  {
   "cell_type": "code",
   "execution_count": null,
   "metadata": {
    "collapsed": false
   },
   "outputs": [],
   "source": [
    "x = np.linspace(-10,10,100)\n",
    "\n",
    "figure(figsize=(19,9))\n",
    "plot(x, expit((x)*5-5))"
   ]
  }
 ],
 "metadata": {
  "kernelspec": {
   "display_name": "Python 3",
   "language": "python",
   "name": "python3"
  },
  "language_info": {
   "codemirror_mode": {
    "name": "ipython",
    "version": 3
   },
   "file_extension": ".py",
   "mimetype": "text/x-python",
   "name": "python",
   "nbconvert_exporter": "python",
   "pygments_lexer": "ipython3",
   "version": "3.4.3"
  }
 },
 "nbformat": 4,
 "nbformat_minor": 0
}
